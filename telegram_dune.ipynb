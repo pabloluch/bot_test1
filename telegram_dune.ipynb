{
 "cells": [
  {
   "cell_type": "code",
   "execution_count": 12,
   "metadata": {},
   "outputs": [],
   "source": [
    "from flask import Flask, request\n",
    "import requests\n",
    "from dotenv import load_dotenv\n",
    "import os"
   ]
  },
  {
   "cell_type": "code",
   "execution_count": 13,
   "metadata": {},
   "outputs": [],
   "source": [
    "load_dotenv()\n",
    "\n",
    "app = Flask(__name__)"
   ]
  },
  {
   "cell_type": "code",
   "execution_count": 14,
   "metadata": {},
   "outputs": [
    {
     "name": "stdout",
     "output_type": "stream",
     "text": [
      "7052250848:AAGAJiQvfgoO2WyUbTesuNbw95ZNf6humuo\n",
      "eMIuulg5tjpxEClwsKIzRlQMS06K0LtK\n",
      "4021805\n"
     ]
    }
   ],
   "source": [
    "TELEGRAM_BOT_TOKEN = os.getenv('TELEGRAM_BOT_TOKEN')\n",
    "DUNE_API_KEY = os.getenv('DUNE_API_KEY')\n",
    "DUNE_QUERY_ID = os.getenv('DUNE_QUERY_ID')\n",
    "\n",
    "print(TELEGRAM_BOT_TOKEN)\n",
    "print(DUNE_API_KEY)\n",
    "print(DUNE_QUERY_ID)"
   ]
  },
  {
   "cell_type": "code",
   "execution_count": 15,
   "metadata": {},
   "outputs": [],
   "source": [
    "@app.route('/webhook', methods=['POST'])\n",
    "def webhook():\n",
    "    data = request.json\n",
    "    chat_id = data['message']['chat']['id']\n",
    "    user_input = data['message']['text']\n",
    "\n",
    "    # Run Dune Analytics query with user input\n",
    "    query_url = f'https://api.dune.com/api/v1/query/{DUNE_QUERY_ID}/execute'\n",
    "    headers = {'x-dune-api-key': DUNE_API_KEY}\n",
    "    response = requests.post(query_url, headers=headers, json={\"parameters\": {\"input\": user_input}})\n",
    "    result = response.json()\n",
    "\n",
    "    # Send result back to Telegram\n",
    "    send_message(chat_id, result['data'])\n",
    "\n",
    "    return 'ok'"
   ]
  },
  {
   "cell_type": "code",
   "execution_count": 16,
   "metadata": {},
   "outputs": [],
   "source": [
    "def send_message(chat_id, text):\n",
    "    url = f'https://api.telegram.org/bot{TELEGRAM_BOT_TOKEN}/sendMessage'\n",
    "    payload = {'chat_id': chat_id, 'text': text}\n",
    "    requests.post(url, json=payload)"
   ]
  },
  {
   "cell_type": "code",
   "execution_count": 17,
   "metadata": {},
   "outputs": [
    {
     "name": "stdout",
     "output_type": "stream",
     "text": [
      " * Serving Flask app '__main__'\n",
      " * Debug mode: off\n"
     ]
    },
    {
     "name": "stderr",
     "output_type": "stream",
     "text": [
      "WARNING: This is a development server. Do not use it in a production deployment. Use a production WSGI server instead.\n",
      " * Running on http://127.0.0.1:5000\n",
      "Press CTRL+C to quit\n"
     ]
    }
   ],
   "source": [
    "if __name__ == '__main__':\n",
    "    app.run(port=5000)"
   ]
  }
 ],
 "metadata": {
  "kernelspec": {
   "display_name": ".venv",
   "language": "python",
   "name": "python3"
  },
  "language_info": {
   "codemirror_mode": {
    "name": "ipython",
    "version": 3
   },
   "file_extension": ".py",
   "mimetype": "text/x-python",
   "name": "python",
   "nbconvert_exporter": "python",
   "pygments_lexer": "ipython3",
   "version": "3.11.9"
  }
 },
 "nbformat": 4,
 "nbformat_minor": 2
}
